{
 "cells": [
  {
   "cell_type": "code",
   "execution_count": 3,
   "metadata": {
    "tags": []
   },
   "outputs": [],
   "source": [
    "from metavision_core.event_io import EventsIterator, load_events\n",
    "import tonic\n",
    "import matplotlib.pyplot as plt\n",
    "import numpy as np\n",
    "import torchvision\n",
    "import torch.nn as nn\n",
    "import torch\n",
    "import models\n",
    "import random\n",
    "plt.rcParams[\"animation.html\"] = \"jshtml\"\n",
    "%matplotlib inline\n",
    "# %matplotlib ipympl\n",
    "# %matplotlib tk\n",
    "\n",
    "# import sdl2.ext\n"
   ]
  },
  {
   "cell_type": "code",
   "execution_count": null,
   "metadata": {},
   "outputs": [],
   "source": [
    "\n",
    "file_name = \"1hzplane\"\n",
    "\n",
    "# ievs = load_events(\"./data/Line/\" + file_name + \".dat\")\n",
    "# ievs = np.load(\"./data/Line/\" + file_name + \".npy\")\n",
    "# ifs = torch.from_numpy(\n",
    "#     np.load(\"./data/Line/\"+file_name+\"_frames.npy\")[0:2000,:,:]\n",
    "#     )\n",
    "# if torch.cuda.is_available():\n",
    "#   ifs = ifs.cuda(0)\n",
    "\n"
   ]
  },
  {
   "cell_type": "code",
   "execution_count": 4,
   "metadata": {
    "tags": []
   },
   "outputs": [],
   "source": [
    "\n",
    "i_evs = tonic.datasets.NMNIST(save_to=\"./data\")\n",
    "# i_evs = tonic.datasets.POKERDVS(save_to=\"./data\")\n",
    "# i_evs = tonic.datasets.DVSGesture(save_to=\"./data\")\n",
    "# i_evs = tonic.datasets.ASLDVS(save_to=\"./data\")\n",
    "# i_evs = tonic.datasets.CIFAR10DVS(save_to=\"./data\")\n"
   ]
  },
  {
   "cell_type": "code",
   "execution_count": 5,
   "metadata": {
    "tags": []
   },
   "outputs": [
    {
     "name": "stdout",
     "output_type": "stream",
     "text": [
      "9\n"
     ]
    },
    {
     "data": {
      "application/vnd.jupyter.widget-view+json": {
       "model_id": "41cd7e2eca02486caa99eb8d095bce5e",
       "version_major": 2,
       "version_minor": 0
      },
      "image/png": "[encoded data removed]",
      "text/html": [
       "\n",
       "            <div style=\"display: inline-block;\">\n",
       "                <div class=\"jupyter-widgets widget-label\" style=\"text-align: center;\">\n",
       "                    Figure\n",
       "                </div>\n",
       "                <img src='data:image/png;base64,iVBORw0KGgoAAAANSUhEUgAAAMgAAADICAYAAACtWK6eAAAAOXRFWHRTb2Z0d2FyZQBNYXRwbG90bGliIHZlcnNpb24zLjcuMSwgaHR0cHM6Ly9tYXRwbG90bGliLm9yZy/bCgiHAAAACXBIWXMAAA9hAAAPYQGoP6dpAAAC+UlEQVR4nO3dwU0bURRAURtRRLYoKSKdpIXsUEQdCLFLC+mEHkhEKT/rWNYNoPGM+T5nZwn5D4urp6exx/sxxtgBR11tfQFwzgQCQSAQBAJBIBAEAkEgEAQCQSAQBAJBIBAEAkEgEAQCQSAQBAJBIBAEAkEgEAQCQSAQBAJBIBCu1zro5vF+raO4YC+3d4u+nwkCQSAQBAJBIBAEAkEgEAQCQSAQBAJBIBAEAkEgEAQCQSAQBAJBIBAEAkEgEAQCQSAQBAJBIBAEAkEgEAQCQSAQBAJBIBAEAkEgEAQCQSAQBAJBIBAEAkEgEAQCQSAQBAJBIBAEAkEgEAQCQSAQrre+gI/my4+nf17/fvh6srP+fPv537/5/Ov7yc7HBIEkEAgCgSAQCJb0NzrlUn7IAr49EwSCQCAIBIIdhLN07CbpFjuZCQJBIBAEAkEgEPZjjLHGQTeP92scwzudy1L8Fseu+erT86JnmCAQBAJBIBDsIEzl5fZu0fczQSAIBIJAIAgEgkAgCASCQCAIBIJvFF6oww/6nfsHE7digkAQCASBQBAIBEv6Cg5/U2S3W/cRpsdYyl/HBIEgEAgCgSAQCFMu6Vs/wmbNH/rktEwQCAKBIBAIU+4gW98Es3PMwwSBIBAIAoEgEAhTLukz81XZdZkgEAQCQSAQ7CAfjJ1jXSYIBIFAEAgEgUAQCASBQBAIBIFAEAgEgUAQCASBQBAIBIFAEAgEgUAQCASBQBAIBIFAEAgEgUCY4rE/r3kcp0d28h4mCASBQBAIhCl2kMN9YuvfSd+afWs5JggEgUAQCASBQJhiST906Uvppf//SzJBIAgEgkAgCASCQCAIBIJAIAgEwpQ3Ci/907wsxwSBIBAIAoEw5Q5i32ApJggEgUAQCASBQBAIBIFAEAgEgUAQCASBQBAIBIFAEAiE/RhjbH0RcK5MEAgCgSAQCAKBIBAIAoEgEAgCgSAQCAKBIBAIAoEgEAgCgSAQCAKBIBAIAoEgEAgCgSAQCH8BkvdSgUePhsEAAAAASUVORK5CYII=' width=200.0/>\n",
       "            </div>\n",
       "        "
      ],
      "text/plain": [
       "Canvas(toolbar=Toolbar(toolitems=[('Home', 'Reset original view', 'home', 'home'), ('Back', 'Back to previous …"
      ]
     },
     "metadata": {},
     "output_type": "display_data"
    }
   ],
   "source": [
    "\n",
    "to_frame = tonic.transforms.ToFrame(i_evs.sensor_size, time_window=10000)\n",
    "\n",
    "events, label = i_evs[random.randint(0,59999)]\n",
    "print(label)\n",
    "ani = tonic.utils.plot_animation(to_frame(events))\n"
   ]
  },
  {
   "cell_type": "code",
   "execution_count": null,
   "metadata": {},
   "outputs": [],
   "source": [
    "\n",
    "def n_evs(evs):\n",
    "    sum = 0\n",
    "    for i, ev in enumerate(evs):\n",
    "        # print(i)\n",
    "        sum = sum + (ev[0].size-sum)/(i+1)\n",
    "    print(sum)\n",
    "# MNIST: 4172\n",
    "# POKERDVS: 2991\n",
    "# DVSGesture: 361903\n",
    "# ASLDVS: \n",
    "# CIFAR10DVS: \n"
   ]
  },
  {
   "cell_type": "code",
   "execution_count": null,
   "metadata": {},
   "outputs": [],
   "source": [
    "\n",
    "\n",
    "to_frame = tonic.transforms.ToFrame(\n",
    "    sensor_size=i_evs.sensor_size,\n",
    ")\n",
    "noise = tonic.transforms.UniformNoise(\n",
    "    sensor_size=i_evs.sensor_size,\n",
    "    n=n_evs(i_evs)*0.1,\n",
    ")\n"
   ]
  },
  {
   "cell_type": "code",
   "execution_count": null,
   "metadata": {},
   "outputs": [],
   "source": [
    "\n",
    "animation = tonic.utils.plot_animation(frames=ifs)\n",
    "animation = tonic.utils.plot_animation(frames=ofs)\n"
   ]
  },
  {
   "cell_type": "code",
   "execution_count": null,
   "metadata": {},
   "outputs": [],
   "source": [
    "\n",
    "net = models.SNN2()\n"
   ]
  },
  {
   "cell_type": "code",
   "execution_count": null,
   "metadata": {},
   "outputs": [],
   "source": []
  },
  {
   "cell_type": "code",
   "execution_count": null,
   "metadata": {},
   "outputs": [],
   "source": [
    "\n",
    "with torch.inference_mode():\n",
    "    ofs = net(ifs)\n",
    "\n",
    "# np.save(\"./data/Line/\" + file_name + \"_out.npy\")\n"
   ]
  },
  {
   "cell_type": "code",
   "execution_count": null,
   "metadata": {},
   "outputs": [],
   "source": [
    "\n",
    "animation = tonic.utils.plot_animation(frames=ofs.cpu())\n"
   ]
  },
  {
   "cell_type": "code",
   "execution_count": null,
   "metadata": {},
   "outputs": [],
   "source": []
  }
 ],
 "metadata": {
  "kernelspec": {
   "display_name": "Python 3 (ipykernel)",
   "language": "python",
   "name": "python3"
  },
  "language_info": {
   "codemirror_mode": {
    "name": "ipython",
    "version": 3
   },
   "file_extension": ".py",
   "mimetype": "text/x-python",
   "name": "python",
   "nbconvert_exporter": "python",
   "pygments_lexer": "ipython3",
   "version": "3.8.10"
  }
 },
 "nbformat": 4,
 "nbformat_minor": 4
}
