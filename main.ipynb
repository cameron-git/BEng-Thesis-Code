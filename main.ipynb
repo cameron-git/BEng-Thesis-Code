{
 "cells": [
  {
   "cell_type": "code",
   "execution_count": null,
   "metadata": {},
   "outputs": [],
   "source": [
    "# from metavision_core.event_io import EventsIterator, load_events\n",
    "import tonic\n",
    "import matplotlib.pyplot as plt\n",
    "import numpy as np\n",
    "import torchvision\n",
    "import torch.nn as nn\n",
    "import torch\n",
    "import models\n",
    "import random\n",
    "from IPython.utils import io\n",
    "# import sdl2.ext\n"
   ]
  },
  {
   "cell_type": "code",
   "execution_count": null,
   "metadata": {},
   "outputs": [],
   "source": [
    "# %matplotlib inline\n",
    "%matplotlib ipympl\n",
    "# %matplotlib tk\n",
    "plt.rcParams[\"image.cmap\"] = \"bone\""
   ]
  },
  {
   "cell_type": "code",
   "execution_count": null,
   "metadata": {},
   "outputs": [],
   "source": [
    "file_name = \"1hzplane\"\n",
    "\n",
    "# ievs = load_events(\"./data/Line/\" + file_name + \".dat\")\n",
    "# ievs = np.load(\"./data/Line/\" + file_name + \".npy\")\n",
    "# ifs = torch.from_numpy(\n",
    "#     np.load(\"./data/Line/\"+file_name+\"_frames.npy\")[0:2000,:,:]\n",
    "#     )\n",
    "# if torch.cuda.is_available():\n",
    "#   ifs = ifs.cuda(0)"
   ]
  },
  {
   "cell_type": "code",
   "execution_count": null,
   "metadata": {},
   "outputs": [],
   "source": [
    "in_data = tonic.datasets.NMNIST(save_to=\"./data\") # (34, 34, 2) 3\n",
    "# i_evs = tonic.datasets.POKERDVS(save_to=\"./data\") # (35, 35, 2) 3\n",
    "# i_evs = tonic.datasets.DVSGesture(save_to=\"./data\") # (128, 128, 2) 2\n",
    "# i_evs = tonic.datasets.ASLDVS(save_to=\"./data\") # (240, 180, 2) 3\n",
    "\n",
    "in_data.sensor_size"
   ]
  },
  {
   "cell_type": "code",
   "execution_count": null,
   "metadata": {},
   "outputs": [],
   "source": [
    "noise = tonic.transforms.UniformNoise(\n",
    "    sensor_size=in_data.sensor_size[:-1]+(1,),\n",
    "    n=int(4172),\n",
    ")\n",
    "to_frame = tonic.transforms.ToFrame(in_data.sensor_size[:-1]+(1,), n_time_bins=100)"
   ]
  },
  {
   "cell_type": "code",
   "execution_count": null,
   "metadata": {},
   "outputs": [],
   "source": [
    "events, label = in_data[0]#[random.randint(0, len(in_data)-1)]\n",
    "events = events.squeeze()\n",
    "events = np.array(list(filter(lambda ev: ev[3]==0, events)))\n",
    "# print(events)\n",
    "print(label)\n",
    "\n",
    "true_frames = to_frame(events)\n",
    "in_frames = to_frame(noise(events))"
   ]
  },
  {
   "cell_type": "code",
   "execution_count": null,
   "metadata": {},
   "outputs": [],
   "source": [
    "# ani.save(\"./img/nmnist-9.gif\", writer=\"imagemagick\")"
   ]
  },
  {
   "cell_type": "code",
   "execution_count": null,
   "metadata": {},
   "outputs": [],
   "source": [
    "# def n_evs(evs):\n",
    "#     sum = 0\n",
    "#     for i, ev in enumerate(evs):\n",
    "#         # print(i)\n",
    "#         sum = sum + (ev[0].size-sum)/(i+1)\n",
    "#     print(sum)\n",
    "# n_evs(i_evs)\n",
    "\n",
    "# # MNIST: 4172\n",
    "# # POKERDVS: 2991\n",
    "# # DVSGesture: 361903\n",
    "# # ASLDVS: 28149\n",
    "# # CIFAR10DVS: 204409"
   ]
  },
  {
   "cell_type": "code",
   "execution_count": null,
   "metadata": {},
   "outputs": [],
   "source": [
    "# def t_evs(evs):\n",
    "#     sum = 0\n",
    "#     for i, ev in enumerate(evs):\n",
    "#         # print(i)\n",
    "#         sum = sum + (ev[0][-1][0]-sum)/(i+1)\n",
    "#     print(sum)\n",
    "# t_evs(i_evs)\n",
    "\n",
    "# # MNIST: 307663\n",
    "# # POKERDVS: 17283\n",
    "# # DVSGesture: 6455240\n",
    "# # ASLDVS: 110247\n",
    "# # CIFAR10DVS: 1293438"
   ]
  },
  {
   "cell_type": "code",
   "execution_count": null,
   "metadata": {},
   "outputs": [],
   "source": [
    "in_frames.shape"
   ]
  },
  {
   "cell_type": "code",
   "execution_count": null,
   "metadata": {},
   "outputs": [],
   "source": [
    "net = models.Blur1()\n",
    "in_frames = torch.tensor(in_frames).float()\n",
    "with torch.inference_mode():\n",
    "    out_frames = net(in_frames)"
   ]
  },
  {
   "cell_type": "code",
   "execution_count": null,
   "metadata": {},
   "outputs": [],
   "source": [
    "plt.rc('animation', html='jshtml')\n",
    "with io.capture_output() as captured:\n",
    "    anim = tonic.utils.plot_animation(np.concatenate((in_frames,out_frames,true_frames),axis=3))\n",
    "display(anim)"
   ]
  }
 ],
 "metadata": {
  "kernelspec": {
   "display_name": "Python 3",
   "language": "python",
   "name": "python3"
  },
  "language_info": {
   "codemirror_mode": {
    "name": "ipython",
    "version": 3
   },
   "file_extension": ".py",
   "mimetype": "text/x-python",
   "name": "python",
   "nbconvert_exporter": "python",
   "pygments_lexer": "ipython3",
   "version": "3.8.10"
  },
  "orig_nbformat": 4
 },
 "nbformat": 4,
 "nbformat_minor": 2
}
