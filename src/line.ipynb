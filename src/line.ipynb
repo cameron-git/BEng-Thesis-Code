{
 "cells": [
  {
   "cell_type": "code",
   "execution_count": 1,
   "metadata": {},
   "outputs": [],
   "source": [
    "from metavision_core.event_io import EventsIterator, load_events\n",
    "import tonic\n",
    "import matplotlib.pyplot as plt\n",
    "import numpy as np\n",
    "import torch\n",
    "import torch.nn as nn\n",
    "import random\n",
    "from IPython.utils import io\n",
    "# import sdl2.ext\n",
    "\n",
    "import models\n",
    "import utils"
   ]
  },
  {
   "cell_type": "code",
   "execution_count": 2,
   "metadata": {},
   "outputs": [],
   "source": [
    "# %matplotlib inline\n",
    "%matplotlib ipympl\n",
    "# %matplotlib tk\n",
    "plt.rc('animation', html='jshtml')\n",
    "plt.rcParams[\"image.cmap\"] = \"bone\""
   ]
  },
  {
   "cell_type": "code",
   "execution_count": 3,
   "metadata": {},
   "outputs": [],
   "source": [
    "file_name = \"1hzplane\"\n",
    "\n",
    "# in_data = load_events(\"../data/Line/\" + file_name + \".dat\")\n",
    "# in_data = np.load(\"../data/Line/\" + file_name + \".npy\")\n",
    "in_frames = torch.tensor(np.load(\"../data/Line/\"+file_name+\"_frames.npy\")[0:100]).float()#.cuda(0)"
   ]
  },
  {
   "cell_type": "code",
   "execution_count": 15,
   "metadata": {},
   "outputs": [],
   "source": [
    "plt.imsave(\"../img/line-demo10.png\",in_frames[15][0])"
   ]
  },
  {
   "cell_type": "code",
   "execution_count": 4,
   "metadata": {},
   "outputs": [],
   "source": [
    "net = models.Fast1()#.cuda(0)\n",
    "with torch.inference_mode():\n",
    "    out_frames = net(in_frames)"
   ]
  },
  {
   "cell_type": "code",
   "execution_count": 5,
   "metadata": {},
   "outputs": [],
   "source": [
    "# in_frames = utils.frame_merge(in_frames,5)\n",
    "# out_frames = utils.frame_merge(out_frames,5)"
   ]
  },
  {
   "cell_type": "code",
   "execution_count": 6,
   "metadata": {},
   "outputs": [],
   "source": [
    "# Loss"
   ]
  },
  {
   "cell_type": "code",
   "execution_count": 7,
   "metadata": {},
   "outputs": [],
   "source": [
    "in_frames = in_frames.cpu()\n",
    "out_frames = out_frames.cpu()"
   ]
  },
  {
   "cell_type": "code",
   "execution_count": 8,
   "metadata": {},
   "outputs": [
    {
     "data": {
      "text/plain": [
       "<matplotlib.animation.FuncAnimation at 0x7f0104adfbe0>"
      ]
     },
     "metadata": {},
     "output_type": "display_data"
    }
   ],
   "source": [
    "with io.capture_output() as captured:\n",
    "    anim = tonic.utils.plot_animation(np.concatenate((in_frames,out_frames),axis=3))\n",
    "display(anim)"
   ]
  },
  {
   "cell_type": "markdown",
   "metadata": {},
   "source": []
  },
  {
   "cell_type": "code",
   "execution_count": 9,
   "metadata": {},
   "outputs": [],
   "source": [
    "# anim.save(\"./img/dataline3.gif\", fps=300)\n",
    "# ani.save(\"./img/nmnist-9.gif\", writer=\"imagemagick\")"
   ]
  }
 ],
 "metadata": {
  "kernelspec": {
   "display_name": "Python 3",
   "language": "python",
   "name": "python3"
  },
  "language_info": {
   "codemirror_mode": {
    "name": "ipython",
    "version": 3
   },
   "file_extension": ".py",
   "mimetype": "text/x-python",
   "name": "python",
   "nbconvert_exporter": "python",
   "pygments_lexer": "ipython3",
   "version": "3.8.10"
  },
  "orig_nbformat": 4
 },
 "nbformat": 4,
 "nbformat_minor": 2
}
