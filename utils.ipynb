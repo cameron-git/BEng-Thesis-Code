{
 "cells": [
  {
   "cell_type": "code",
   "execution_count": null,
   "metadata": {},
   "outputs": [],
   "source": [
    "import numpy as np\n",
    "import glob\n",
    "import tonic\n",
    "import os\n",
    "import sys\n",
    "from metavision_core.event_io import load_events\n",
    ""
   ]
  },
  {
   "cell_type": "code",
   "execution_count": null,
   "metadata": {},
   "outputs": [],
   "source": [
    "\n",
    "os.chdir(sys.path[0])\n",
    "\n",
    "for f in glob.glob(\"./data/Line/*.dat\"):\n",
    "    print(f)\n",
    "    np.save(f[0:-4], load_events(f))\n",
    "\n",
    ""
   ]
  },
  {
   "cell_type": "code",
   "execution_count": null,
   "metadata": {},
   "outputs": [],
   "source": [
    "os.chdir(sys.path[0])\n",
    "transform = tonic.transforms.ToFrame(\n",
    "    sensor_size=[480, 360, 1],\n",
    "    time_window=361,\n",
    ")\n",
    "for f in glob.glob(\"./data/Line/*.dat\"):\n",
    "    print(f)\n",
    "    np.save(f[0:-4]+\"_frames\", transform(load_events(f)))"
   ]
  },
  {
   "cell_type": "code",
   "execution_count": null,
   "metadata": {},
   "outputs": [],
   "source": [
    ""
   ]
  }
 ],
 "nbformat": 4,
 "nbformat_minor": 2,
 "metadata": {
  "language_info": {
   "codemirror_mode": {
    "name": "ipython",
    "version": 3
   },
   "file_extension": ".py",
   "mimetype": "text/x-python",
   "name": "python",
   "nbconvert_exporter": "python",
   "pygments_lexer": "ipython3",
   "version": 3
  },
  "orig_nbformat": 4
 }
}